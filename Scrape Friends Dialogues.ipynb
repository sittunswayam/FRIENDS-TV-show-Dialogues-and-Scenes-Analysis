{
 "cells": [
  {
   "cell_type": "code",
   "execution_count": 1,
   "metadata": {},
   "outputs": [],
   "source": [
    "from bs4 import BeautifulSoup\n",
    "import requests"
   ]
  },
  {
   "cell_type": "code",
   "execution_count": 2,
   "metadata": {},
   "outputs": [],
   "source": [
    "primary_url = 'https://fangj.github.io/friends/'\n",
    "request = requests.get(primary_url)\n",
    "soup = BeautifulSoup(request.content)"
   ]
  },
  {
   "cell_type": "code",
   "execution_count": 3,
   "metadata": {},
   "outputs": [],
   "source": [
    "url_list = []\n",
    "\n",
    "for link in soup.find_all('a'):\n",
    "    url_list.append(link.get('href'))"
   ]
  },
  {
   "cell_type": "code",
   "execution_count": 4,
   "metadata": {},
   "outputs": [],
   "source": [
    "url_list = [primary_url + url for url in url_list]"
   ]
  },
  {
   "cell_type": "code",
   "execution_count": 5,
   "metadata": {},
   "outputs": [],
   "source": [
    "final_text_list = []"
   ]
  },
  {
   "cell_type": "code",
   "execution_count": 6,
   "metadata": {},
   "outputs": [],
   "source": [
    "def process_urls(url_list):\n",
    "    for url in url_list:\n",
    "        re = requests.get(url)\n",
    "        isoup = BeautifulSoup(re.content)\n",
    "        final_text_list.append(isoup.find_all('p'))    "
   ]
  },
  {
   "cell_type": "code",
   "execution_count": 7,
   "metadata": {},
   "outputs": [],
   "source": [
    "process_urls(url_list)"
   ]
  },
  {
   "cell_type": "code",
   "execution_count": 8,
   "metadata": {},
   "outputs": [],
   "source": [
    "f=open('raw_text_list.txt','w',encoding='utf-8')\n",
    "for ele in final_text_list:\n",
    "    f.write(str(ele))\n",
    "\n",
    "f.close()"
   ]
  },
  {
   "cell_type": "code",
   "execution_count": 9,
   "metadata": {},
   "outputs": [],
   "source": [
    "import re\n",
    "ross_list = []\n",
    "rachel_list = []\n",
    "chandler_list = []\n",
    "joey_list = []\n",
    "monica_list = []\n",
    "phoebe_list = []\n",
    "\n",
    "for i in final_text_list:\n",
    "    for j in i:\n",
    "        if re.search(r'Ross:', str(j)):\n",
    "            ross_list.append(str(j))\n",
    "        if re.search(r'Rachel:', str(j)):\n",
    "            rachel_list.append(str(j))\n",
    "        if re.search(r'Chandler:', str(j)):\n",
    "            chandler_list.append(str(j))\n",
    "        if re.search(r'Joey:', str(j)):\n",
    "            joey_list.append(str(j))\n",
    "        if re.search(r'Monica:', str(j)):\n",
    "            monica_list.append(str(j))\n",
    "        if re.search(r'Phoebe:', str(j)):\n",
    "            phoebe_list.append(str(j))"
   ]
  },
  {
   "cell_type": "code",
   "execution_count": 10,
   "metadata": {},
   "outputs": [],
   "source": [
    "clean_ross_list = []\n",
    "clean_rachel_list = []\n",
    "clean_chandler_list = []\n",
    "clean_joey_list = []\n",
    "clean_monica_list = []\n",
    "clean_phoebe_list = []\n",
    "\n",
    "def remove_html_tags(text):\n",
    "    \"\"\"Remove html tags from a string\"\"\"\n",
    "    clean = re.compile('<.*?>')\n",
    "    return re.sub(clean, '', text)\n",
    "\n",
    "i = 0\n",
    "for j in enumerate(ross_list):\n",
    "    text = remove_html_tags(ross_list[i])\n",
    "    clean_ross_list.append(text)\n",
    "    i += 1\n",
    "    \n",
    "i = 0\n",
    "for j in enumerate(rachel_list):\n",
    "    text = remove_html_tags(rachel_list[i])\n",
    "    clean_rachel_list.append(text)\n",
    "    i += 1\n",
    "\n",
    "i = 0\n",
    "for j in enumerate(chandler_list):\n",
    "    text = remove_html_tags(chandler_list[i])\n",
    "    clean_chandler_list.append(text)\n",
    "    i += 1\n",
    "    \n",
    "i = 0\n",
    "for j in enumerate(joey_list):\n",
    "    text = remove_html_tags(joey_list[i])\n",
    "    clean_joey_list.append(text)\n",
    "    i += 1\n",
    "    \n",
    "i = 0\n",
    "for j in enumerate(monica_list):\n",
    "    text = remove_html_tags(monica_list[i])\n",
    "    clean_monica_list.append(text)\n",
    "    i += 1\n",
    "    \n",
    "i = 0\n",
    "for j in enumerate(phoebe_list):\n",
    "    text = remove_html_tags(phoebe_list[i])\n",
    "    clean_phoebe_list.append(text)\n",
    "    i += 1"
   ]
  },
  {
   "cell_type": "code",
   "execution_count": 11,
   "metadata": {},
   "outputs": [],
   "source": [
    "def remove_backslash_n(text):\n",
    "    \"\"\"Remove \\n from a string\"\"\"\n",
    "    clean = re.compile('<.*?>')\n",
    "    return re.sub(clean, '', text)"
   ]
  },
  {
   "cell_type": "code",
   "execution_count": 12,
   "metadata": {},
   "outputs": [],
   "source": [
    "clean_character_list =[clean_ross_list,clean_rachel_list,clean_chandler_list,\n",
    "                       clean_joey_list,clean_monica_list,clean_phoebe_list]\n",
    "for character in clean_character_list:\n",
    "    i = 0\n",
    "    for line in character:\n",
    "        line = line.replace('\\n','')\n",
    "        line = line.replace('\\t','')\n",
    "        character[i] = line\n",
    "        i += 1"
   ]
  },
  {
   "cell_type": "code",
   "execution_count": 13,
   "metadata": {},
   "outputs": [],
   "source": [
    "import io"
   ]
  },
  {
   "cell_type": "code",
   "execution_count": 15,
   "metadata": {},
   "outputs": [],
   "source": [
    "num = 0\n",
    "with io.open('clean_ross_list.txt', 'w', encoding='utf-8') as f:\n",
    "    for ele in clean_ross_list:\n",
    "        num += 1\n",
    "        f.write(ele+'\\n')\n",
    "f.close()\n",
    "\n",
    "num = 0\n",
    "with io.open('clean_rachel_list.txt', 'w', encoding='utf-8') as f:\n",
    "    for ele in clean_rachel_list:\n",
    "        num += 1\n",
    "        f.write(ele+'\\n')\n",
    "f.close()\n",
    "\n",
    "num = 0\n",
    "with io.open('clean_chandler_list.txt', 'w', encoding='utf-8') as f:\n",
    "    for ele in clean_chandler_list:\n",
    "        num += 1\n",
    "        f.write(ele+'\\n')\n",
    "f.close()\n",
    "\n",
    "num = 0\n",
    "with io.open('clean_joey_list.txt', 'w', encoding='utf-8') as f:\n",
    "    for ele in clean_joey_list:\n",
    "        num += 1\n",
    "        f.write(ele+'\\n')\n",
    "f.close()\n",
    "\n",
    "num = 0\n",
    "with io.open('clean_monica_list.txt', 'w', encoding='utf-8') as f:\n",
    "    for ele in clean_monica_list:\n",
    "        num += 1\n",
    "        f.write(ele+'\\n')\n",
    "f.close()\n",
    "\n",
    "num = 0\n",
    "with io.open('clean_phoebe_list.txt', 'w', encoding='utf-8') as f:\n",
    "    for ele in clean_phoebe_list:\n",
    "        num += 1\n",
    "        f.write(ele+'\\n')\n",
    "f.close()"
   ]
  },
  {
   "cell_type": "code",
   "execution_count": null,
   "metadata": {},
   "outputs": [],
   "source": []
  }
 ],
 "metadata": {
  "kernelspec": {
   "display_name": "Python 3",
   "language": "python",
   "name": "python3"
  },
  "language_info": {
   "codemirror_mode": {
    "name": "ipython",
    "version": 3
   },
   "file_extension": ".py",
   "mimetype": "text/x-python",
   "name": "python",
   "nbconvert_exporter": "python",
   "pygments_lexer": "ipython3",
   "version": "3.7.6"
  }
 },
 "nbformat": 4,
 "nbformat_minor": 4
}
